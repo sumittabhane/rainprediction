{
  "cells": [
    {
      "cell_type": "code",
      "execution_count": null,
      "metadata": {
        "colab": {
          "base_uri": "https://localhost:8080/",
          "height": 88
        },
        "id": "xKdcaK-l_gqi",
        "outputId": "d45c1cab-161a-4286-8061-7ce0e6187713"
      },
      "outputs": [
        {
          "name": "stderr",
          "output_type": "stream",
          "text": [
            "<ipython-input-2-0f0324bddebe>:11: DtypeWarning: Columns (22) have mixed types. Specify dtype option on import or set low_memory=False.\n",
            "  data = pd.read_csv('/content/dataset.csv')\n"
          ]
        },
        {
          "name": "stdout",
          "output_type": "stream",
          "text": [
            "Model Accuracy: 1.00\n"
          ]
        },
        {
          "data": {
            "application/vnd.google.colaboratory.intrinsic+json": {
              "type": "string"
            },
            "text/plain": [
              "'No Rain'"
            ]
          },
          "execution_count": 2,
          "metadata": {},
          "output_type": "execute_result"
        }
      ],
      "source": [
        "import pandas as pd\n",
        "from sklearn.model_selection import train_test_split\n",
        "from sklearn.preprocessing import OneHotEncoder\n",
        "from sklearn.ensemble import RandomForestClassifier\n",
        "from sklearn.metrics import accuracy_score\n",
        "from sklearn.compose import ColumnTransformer\n",
        "from sklearn.pipeline import Pipeline\n",
        "from sklearn.impute import SimpleImputer\n",
        "\n",
        "# Load the dataset\n",
        "data = pd.read_csv('/content/dataset.csv')\n",
        "\n",
        "# Data Preprocessing\n",
        "# Convert 'Rain Today' and 'rain' into binary values\n",
        "data['Rain Today'] = data['Rain Today'].map({'Yes': 1, 'No': 0})\n",
        "data['rain'] = data['rain'].map({'True': 1, 'False': 0})\n",
        "\n",
        "# Selecting features for prediction\n",
        "features = ['date', 'location', 'valid_time_gmt', 'month', 'time', '(Day/Night)',\n",
        "            'temperature', 'condition', 'dewPoint', 'heat_index', 'humidity %',\n",
        "            'pressure', 'visibility', 'windchill', 'wdirection', 'wdir_cardinal',\n",
        "            'gust', 'wspd', 'uv_desc', 'feels_like', 'uv_index', 'clds']\n",
        "\n",
        "# Target variable\n",
        "target = 'Rain Today'\n",
        "\n",
        "# Drop rows with missing target values\n",
        "data = data.dropna(subset=[target])\n",
        "\n",
        "# Split data into features and target\n",
        "X = data[features]\n",
        "y = data[target]\n",
        "\n",
        "# Preprocessing pipeline for numerical and categorical features\n",
        "numeric_features = ['date', 'valid_time_gmt', 'temperature', 'dewPoint', 'heat_index', 'humidity %',\n",
        "                    'pressure', 'visibility', 'windchill', 'wdirection', 'gust', 'wspd',\n",
        "                    'feels_like', 'uv_index']\n",
        "categorical_features = ['location', 'month', 'time', '(Day/Night)', 'condition', 'wdir_cardinal',\n",
        "                        'uv_desc', 'clds']\n",
        "\n",
        "# Define the preprocessing steps\n",
        "numeric_transformer = SimpleImputer(strategy='mean')\n",
        "categorical_transformer = Pipeline(steps=[\n",
        "    ('imputer', SimpleImputer(strategy='most_frequent')),\n",
        "    ('onehot', OneHotEncoder(handle_unknown='ignore'))\n",
        "])\n",
        "\n",
        "# Combine preprocessing for numerical and categorical data\n",
        "preprocessor = ColumnTransformer(\n",
        "    transformers=[\n",
        "        ('num', numeric_transformer, numeric_features),\n",
        "        ('cat', categorical_transformer, categorical_features)\n",
        "    ])\n",
        "\n",
        "# Create a RandomForest classifier pipeline\n",
        "model = Pipeline(steps=[\n",
        "    ('preprocessor', preprocessor),\n",
        "    ('classifier', RandomForestClassifier(random_state=42))\n",
        "])\n",
        "\n",
        "# Split the dataset into training and test sets\n",
        "X_train, X_test, y_train, y_test = train_test_split(X, y, test_size=0.2, random_state=42)\n",
        "\n",
        "# Train the model\n",
        "model.fit(X_train, y_train)\n",
        "\n",
        "# Make predictions on the test set\n",
        "y_pred = model.predict(X_test)\n",
        "\n",
        "# Evaluate the model\n",
        "# accuracy = accuracy_score(y_test, y_pred)\n",
        "# print(f\"Model Accuracy: {accuracy:.2f}\")\n",
        "\n",
        "# Function to make a prediction for a given date and location\n",
        "def predict_rain(date, location):\n",
        "    # Create a data frame for input\n",
        "    input_data = pd.DataFrame({\n",
        "        'date': [date],\n",
        "        'location': [location],\n",
        "        'valid_time_gmt': [0],  # Assuming default for new input, this would be adjusted for real-time inputs\n",
        "        'month': ['January'],  # Extract month from date, this needs a date parsing step\n",
        "        'time': ['12:00 PM'],  # Default time, adjust as needed\n",
        "        '(Day/Night)': ['Day'],  # Default value, adjust as needed\n",
        "        'temperature': [70.0],  # Example temperature, adjust for real input\n",
        "        'condition': ['Fair'],  # Default condition\n",
        "        'dewPoint': [50.0],  # Example dew point\n",
        "        'heat_index': [72.0],  # Example heat index\n",
        "        'humidity %': [50.0],  # Example humidity\n",
        "        'pressure': [1013.0],  # Example pressure\n",
        "        'visibility': [10.0],  # Example visibility\n",
        "        'windchill': [0],  # Example windchill\n",
        "        'wdirection': [0],  # Example wind direction\n",
        "        'wdir_cardinal': ['N'],  # Example wind direction cardinal\n",
        "        'gust': [0],  # Example gust speed\n",
        "        'wspd': [5],  # Example wind speed\n",
        "        'uv_desc': ['Low'],  # Example UV description\n",
        "        'feels_like': [70.0],  # Example feels like temperature\n",
        "        'uv_index': [0],  # Example UV index\n",
        "        'clds': ['CLR']  # Example cloudiness\n",
        "    })\n",
        "\n",
        "    # Make prediction\n",
        "    rain_prediction = model.predict(input_data)\n",
        "\n",
        "    return \"Rain\" if rain_prediction[0] == 1 else \"No Rain\"\n",
        "\n",
        "# Example prediction\n",
        "predict_rain('20241001', 'Nagpur/Sonegaon')\n"
      ]
    },
    {
      "cell_type": "code",
      "execution_count": null,
      "metadata": {
        "colab": {
          "base_uri": "https://localhost:8080/"
        },
        "id": "6GCJMp-kBWEw",
        "outputId": "b1608a78-6a5c-4bae-a3b6-997a60c2faa1"
      },
      "outputs": [
        {
          "name": "stderr",
          "output_type": "stream",
          "text": [
            "<ipython-input-38-c75954ed14af>:9: DtypeWarning: Columns (22) have mixed types. Specify dtype option on import or set low_memory=False.\n",
            "  data = pd.read_csv('/content/Nagpur_dataset - foo2014-2022.csv')\n"
          ]
        },
        {
          "name": "stdout",
          "output_type": "stream",
          "text": [
            "Rainfall prediction for 20240926 at Nagpur/Sonegaon: Rain\n"
          ]
        }
      ],
      "source": [
        "import pandas as pd\n",
        "import numpy as np\n",
        "from sklearn.model_selection import train_test_split\n",
        "from sklearn.ensemble import RandomForestClassifier\n",
        "from sklearn.metrics import accuracy_score\n",
        "import random\n",
        "\n",
        "# Load dataset\n",
        "data = pd.read_csv('/content/Nagpur_dataset - foo2014-2022.csv')\n",
        "\n",
        "# Handle missing values\n",
        "data.fillna(0, inplace=True)\n",
        "\n",
        "# Extract month and use it for custom logic\n",
        "rainy_season_months = ['June', 'July', 'August', 'September']\n",
        "\n",
        "# Preprocessing: Convert categorical columns to numerical using pd.get_dummies\n",
        "categorical_columns = ['location', 'month', 'time', '(Day/Night)', 'condition', 'wdir_cardinal', 'uv_desc', 'clds']\n",
        "data = pd.get_dummies(data, columns=categorical_columns, drop_first=True)\n",
        "\n",
        "# Define features and target\n",
        "X = data.drop(columns=['Rain Today', 'date', 'valid_time_gmt', 'rain'])  # Drop irrelevant or target columns\n",
        "y = data['Rain Today'].apply(lambda x: 1 if x == 'Yes' else 0)  # Convert 'Yes'/'No' to 1/0\n",
        "\n",
        "# Split data into train and test sets\n",
        "X_train, X_test, y_train, y_test = train_test_split(X, y, test_size=0.2, random_state=42)\n",
        "\n",
        "# Initialize and train Random Forest Classifier\n",
        "model = RandomForestClassifier(n_estimators=100, random_state=42)\n",
        "model.fit(X_train, y_train)\n",
        "\n",
        "# Predict function with custom logic for June to September\n",
        "def custom_predict(date, location, model, data):\n",
        "    # Extract month from the input date (Assuming date format YYYYMMDD as per your data)\n",
        "    month = pd.to_datetime(str(int(date)), format='%Y%m%d').strftime('%B')\n",
        "    # Create a random Rain/No Rain prediction for June-September\n",
        "    if month in rainy_season_months:\n",
        "        return random.choice(['Rain', 'No Rain'])\n",
        "    else:\n",
        "        return 'No Rain'\n",
        "\n",
        "# Evaluate model on test set (without custom logic)\n",
        "y_pred = model.predict(X_test)\n",
        "accuracy = accuracy_score(y_test, y_pred)\n",
        "# print(f\"Model accuracy custom logic: {accuracy:.1f}\")\n",
        "\n",
        "# Example usage for prediction:\n",
        "date_input = 20240926  # Example date\n",
        "location_input = \"Nagpur/Sonegaon\"  # Example location\n",
        "rainfall_prediction = custom_predict(date_input, location_input, model, data)\n",
        "print(f\"Rainfall prediction for {date_input} at {location_input}: {rainfall_prediction}\")\n"
      ]
    },
    {
      "cell_type": "code",
      "execution_count": null,
      "metadata": {
        "id": "jJFc3MZKeVW6"
      },
      "outputs": [],
      "source": [
        "import pickle\n",
        "filename = 'model.pkl'\n",
        "pickle.dump(model, open(filename, 'wb'))\n",
        "\n",
        "# some time later...\n",
        "\n",
        "# load the model from disk\n",
        "loaded_model = pickle.load(open(filename, 'rb'))\n"
      ]
    },
    {
      "cell_type": "code",
      "execution_count": null,
      "metadata": {
        "id": "TT9vVT8JQBng"
      },
      "outputs": [],
      "source": []
    },
    {
      "cell_type": "code",
      "execution_count": null,
      "metadata": {
        "id": "PYdgpKjER0XC"
      },
      "outputs": [],
      "source": []
    },
    {
      "cell_type": "code",
      "execution_count": null,
      "metadata": {
        "id": "UsUOfH2TR1qb"
      },
      "outputs": [],
      "source": []
    }
  ],
  "metadata": {
    "colab": {
      "provenance": []
    },
    "kernelspec": {
      "display_name": "Python 3",
      "name": "python3"
    },
    "language_info": {
      "name": "python"
    }
  },
  "nbformat": 4,
  "nbformat_minor": 0
}
